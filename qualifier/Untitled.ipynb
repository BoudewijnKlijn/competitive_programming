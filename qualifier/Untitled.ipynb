{
 "cells": [
  {
   "cell_type": "code",
   "execution_count": 29,
   "id": "regulation-metallic",
   "metadata": {},
   "outputs": [],
   "source": [
    "import numpy as np\n",
    "import pandas as pd\n",
    "import matplotlib.pyplot as plt\n",
    "\n",
    "import collections\n",
    "from collections import defaultdict"
   ]
  },
  {
   "cell_type": "code",
   "execution_count": 2,
   "id": "particular-bermuda",
   "metadata": {},
   "outputs": [],
   "source": [
    "def read_file(file_name):\n",
    "    with open(f'inputs\\\\{file_name}', 'r') as f:\n",
    "        data = f.read().strip()\n",
    "    return data.split('\\n')"
   ]
  },
  {
   "cell_type": "code",
   "execution_count": 3,
   "id": "curious-michael",
   "metadata": {},
   "outputs": [],
   "source": [
    "files = ['a.txt', 'b.txt', 'c.txt', 'd.txt', 'e.txt', 'f.txt']"
   ]
  },
  {
   "cell_type": "code",
   "execution_count": 30,
   "id": "shared-button",
   "metadata": {},
   "outputs": [],
   "source": [
    "file_idx = 0\n",
    "input_data = read_file(files[file_idx])"
   ]
  },
  {
   "cell_type": "code",
   "execution_count": 31,
   "id": "advised-anchor",
   "metadata": {},
   "outputs": [
    {
     "data": {
      "text/plain": [
       "['6 4 5 2 1000',\n",
       " '2 0 rue-de-londres 1',\n",
       " '0 1 rue-d-amsterdam 1',\n",
       " '3 1 rue-d-athenes 1',\n",
       " '2 3 rue-de-rome 2',\n",
       " '1 2 rue-de-moscou 3',\n",
       " '4 rue-de-londres rue-d-amsterdam rue-de-moscou rue-de-rome',\n",
       " '3 rue-d-athenes rue-de-moscou rue-de-londres']"
      ]
     },
     "execution_count": 31,
     "metadata": {},
     "output_type": "execute_result"
    }
   ],
   "source": [
    "input_data"
   ]
  },
  {
   "cell_type": "code",
   "execution_count": 32,
   "id": "alternative-temple",
   "metadata": {},
   "outputs": [],
   "source": [
    "def parse_input(input_data):\n",
    "    Bs, Es, streets, Ls, Ps, routes = list(), list(), list(), list(), list(), list()\n",
    "    for i, line in enumerate(input_data):\n",
    "        if i == 0:\n",
    "            D, I, S, V, F = map(int, line.split(' ')) # duration, intersections, streets, cars, bonus points\n",
    "            print(D, I, S, V, F)\n",
    "        elif 0 < i < S+1:\n",
    "            B, E, street, L = line.split(' ')\n",
    "            Bs.append(int(B))\n",
    "            Es.append(int(E))\n",
    "            streets.append(street)\n",
    "            Ls.append(int(L))\n",
    "            print(B,E, street, L)\n",
    "        else:\n",
    "            split_line = line.split(' ')\n",
    "            P = split_line[0]\n",
    "            Ps.append(int(P))\n",
    "            route = split_line[1:]\n",
    "            routes.append(route)\n",
    "            print(P, route)\n",
    "    return D, I, S, V, F, Bs, Es, streets, Ls, Ps, routes"
   ]
  },
  {
   "cell_type": "code",
   "execution_count": 33,
   "id": "ongoing-enemy",
   "metadata": {
    "scrolled": false
   },
   "outputs": [
    {
     "name": "stdout",
     "output_type": "stream",
     "text": [
      "6 4 5 2 1000\n",
      "2 0 rue-de-londres 1\n",
      "0 1 rue-d-amsterdam 1\n",
      "3 1 rue-d-athenes 1\n",
      "2 3 rue-de-rome 2\n",
      "1 2 rue-de-moscou 3\n",
      "4 ['rue-de-londres', 'rue-d-amsterdam', 'rue-de-moscou', 'rue-de-rome']\n",
      "3 ['rue-d-athenes', 'rue-de-moscou', 'rue-de-londres']\n"
     ]
    }
   ],
   "source": [
    "D, I, S, V, F, Bs, Es, streets, Ls, Ps, routes = parse_input(input_data)"
   ]
  },
  {
   "cell_type": "code",
   "execution_count": 44,
   "id": "adequate-bookmark",
   "metadata": {
    "scrolled": true
   },
   "outputs": [
    {
     "data": {
      "text/plain": [
       "{'rue-de-londres': 2,\n",
       " 'rue-d-amsterdam': 0,\n",
       " 'rue-d-athenes': 3,\n",
       " 'rue-de-rome': 2,\n",
       " 'rue-de-moscou': 1}"
      ]
     },
     "execution_count": 44,
     "metadata": {},
     "output_type": "execute_result"
    }
   ],
   "source": [
    "street_begins = dict(zip(streets, Bs))\n",
    "street_begins"
   ]
  },
  {
   "cell_type": "code",
   "execution_count": 46,
   "id": "assumed-hunter",
   "metadata": {},
   "outputs": [
    {
     "data": {
      "text/plain": [
       "{'rue-de-londres': 0,\n",
       " 'rue-d-amsterdam': 1,\n",
       " 'rue-d-athenes': 1,\n",
       " 'rue-de-rome': 3,\n",
       " 'rue-de-moscou': 2}"
      ]
     },
     "execution_count": 46,
     "metadata": {},
     "output_type": "execute_result"
    }
   ],
   "source": [
    "street_ends = dict(zip(streets, Es))\n",
    "street_ends"
   ]
  },
  {
   "cell_type": "code",
   "execution_count": 35,
   "id": "cross-poster",
   "metadata": {},
   "outputs": [],
   "source": [
    "street_counts = defaultdict(int)\n",
    "for route in routes:\n",
    "    for street in route:\n",
    "        street_counts[street] += 1"
   ]
  },
  {
   "cell_type": "code",
   "execution_count": 36,
   "id": "settled-being",
   "metadata": {},
   "outputs": [
    {
     "data": {
      "text/plain": [
       "defaultdict(int,\n",
       "            {'rue-de-londres': 2,\n",
       "             'rue-d-amsterdam': 1,\n",
       "             'rue-de-moscou': 2,\n",
       "             'rue-de-rome': 1,\n",
       "             'rue-d-athenes': 1})"
      ]
     },
     "execution_count": 36,
     "metadata": {},
     "output_type": "execute_result"
    }
   ],
   "source": [
    "street_counts"
   ]
  },
  {
   "cell_type": "code",
   "execution_count": 37,
   "id": "comfortable-cassette",
   "metadata": {},
   "outputs": [
    {
     "data": {
      "text/plain": [
       "[2, 0, 3, 2, 1]"
      ]
     },
     "execution_count": 37,
     "metadata": {},
     "output_type": "execute_result"
    }
   ],
   "source": [
    "Bs"
   ]
  },
  {
   "cell_type": "code",
   "execution_count": 38,
   "id": "essential-location",
   "metadata": {},
   "outputs": [
    {
     "data": {
      "text/plain": [
       "[0, 1, 1, 3, 2]"
      ]
     },
     "execution_count": 38,
     "metadata": {},
     "output_type": "execute_result"
    }
   ],
   "source": [
    "Es"
   ]
  },
  {
   "cell_type": "code",
   "execution_count": 52,
   "id": "gross-powell",
   "metadata": {},
   "outputs": [
    {
     "name": "stdout",
     "output_type": "stream",
     "text": [
      "rue-de-londres 2 0\n",
      "rue-d-amsterdam 0 1\n",
      "rue-de-moscou 1 2\n",
      "rue-de-rome 2 3\n",
      "rue-d-athenes 3 1\n"
     ]
    },
    {
     "data": {
      "text/plain": [
       "defaultdict(int, {2: 5, 0: 3, 1: 4, 3: 2})"
      ]
     },
     "execution_count": 52,
     "metadata": {},
     "output_type": "execute_result"
    }
   ],
   "source": [
    "intersections_counts = defaultdict(int)\n",
    "for street, count in street_counts.items():\n",
    "    intersection_begin = street_begins[street]\n",
    "    intersection_end = street_ends[street]\n",
    "    print(street, intersection_begin, intersection_end)\n",
    "    intersections_counts[intersection_begin] += count\n",
    "    intersections_counts[intersection_end] += count\n",
    "intersections_counts"
   ]
  },
  {
   "cell_type": "code",
   "execution_count": null,
   "id": "active-differential",
   "metadata": {},
   "outputs": [],
   "source": []
  }
 ],
 "metadata": {
  "kernelspec": {
   "display_name": "Python 3",
   "language": "python",
   "name": "python3"
  },
  "language_info": {
   "codemirror_mode": {
    "name": "ipython",
    "version": 3
   },
   "file_extension": ".py",
   "mimetype": "text/x-python",
   "name": "python",
   "nbconvert_exporter": "python",
   "pygments_lexer": "ipython3",
   "version": "3.8.7"
  }
 },
 "nbformat": 4,
 "nbformat_minor": 5
}
