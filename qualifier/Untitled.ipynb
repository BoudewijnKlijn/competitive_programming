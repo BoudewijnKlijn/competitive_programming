{
 "cells": [
  {
   "cell_type": "code",
   "execution_count": null,
   "id": "regulation-metallic",
   "metadata": {},
   "outputs": [],
   "source": [
    "import numpy as np\n",
    "import pandas as pd\n",
    "import matplotlib.pyplot as plt"
   ]
  },
  {
   "cell_type": "code",
   "execution_count": null,
   "id": "particular-bermuda",
   "metadata": {},
   "outputs": [],
   "source": [
    "def read_file(file_name):\n",
    "    with open(f'inputs\\\\{file_name}', 'r') as f:\n",
    "        data = f.read().strip()\n",
    "    return data.split('\\n')"
   ]
  },
  {
   "cell_type": "code",
   "execution_count": null,
   "id": "curious-michael",
   "metadata": {},
   "outputs": [],
   "source": [
    "files = ['a.txt', 'b.txt', 'c.txt', 'd.txt', 'e.txt', 'f.txt']"
   ]
  },
  {
   "cell_type": "code",
   "execution_count": null,
   "id": "shared-button",
   "metadata": {},
   "outputs": [],
   "source": [
    "file_idx = 1\n",
    "input_data = read_file(files[file_idx])"
   ]
  },
  {
   "cell_type": "code",
   "execution_count": null,
   "id": "advised-anchor",
   "metadata": {},
   "outputs": [],
   "source": [
    "input_data"
   ]
  },
  {
   "cell_type": "code",
   "execution_count": null,
   "id": "alternative-temple",
   "metadata": {},
   "outputs": [],
   "source": [
    "def parse_input(input_data):\n",
    "    Bs, Es, streets, Ls, Ps, routes = list(), list(), list(), list(), list(), list()\n",
    "    for i, line in enumerate(input_data):\n",
    "        if i == 0:\n",
    "            D, I, S, V, F = map(int, line.split(' ')) # duration, intersections, streets, cars, bonus points\n",
    "            print(D, I, S, V, F)\n",
    "        elif 0 < i < S+1:\n",
    "            B, E, street, L = line.split(' ')\n",
    "            Bs.append(int(B))\n",
    "            Es.append(int(E))\n",
    "            streets.append(street)\n",
    "            Ls.append(int(L))\n",
    "            print(B,E, street, L)\n",
    "        else:\n",
    "            split_line = line.split(' ')\n",
    "            P = split_line[0]\n",
    "            Ps.append(int(P))\n",
    "            route = split_line[1:]\n",
    "            routes.append(route)\n",
    "            print(P, route)\n",
    "    return D, I, S, V, F, Bs, Es, streets, Ls, Ps, routes"
   ]
  },
  {
   "cell_type": "code",
   "execution_count": null,
   "id": "ongoing-enemy",
   "metadata": {},
   "outputs": [],
   "source": [
    "D, I, S, V, F, Bs, Es, streets, Ls, Ps, routes = parse_input(input_data)"
   ]
  }
 ],
 "metadata": {
  "kernelspec": {
   "display_name": "Python 3",
   "language": "python",
   "name": "python3"
  },
  "language_info": {
   "codemirror_mode": {
    "name": "ipython",
    "version": 3
   },
   "file_extension": ".py",
   "mimetype": "text/x-python",
   "name": "python",
   "nbconvert_exporter": "python",
   "pygments_lexer": "ipython3",
   "version": "3.8.7"
  }
 },
 "nbformat": 4,
 "nbformat_minor": 5
}
