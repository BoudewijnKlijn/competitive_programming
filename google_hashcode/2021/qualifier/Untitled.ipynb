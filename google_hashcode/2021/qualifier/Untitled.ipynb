{
 "cells": [
  {
   "cell_type": "code",
   "execution_count": null,
   "id": "regulation-metallic",
   "metadata": {},
   "outputs": [],
   "source": [
    "import numpy as np\n",
    "import pandas as pd\n",
    "import matplotlib.pyplot as plt\n",
    "\n",
    "import collections\n",
    "from collections import defaultdict, Counter\n",
    "from itertools import chain"
   ]
  },
  {
   "cell_type": "code",
   "execution_count": null,
   "id": "particular-bermuda",
   "metadata": {},
   "outputs": [],
   "source": [
    "def read_file(file_name):\n",
    "    with open(f'inputs\\\\{file_name}', 'r') as f:\n",
    "        data = f.read().strip()\n",
    "    return data.split('\\n')"
   ]
  },
  {
   "cell_type": "code",
   "execution_count": null,
   "id": "curious-michael",
   "metadata": {},
   "outputs": [],
   "source": [
    "files = ['a.txt', 'b.txt', 'c.txt', 'd.txt', 'e.txt', 'f.txt']"
   ]
  },
  {
   "cell_type": "code",
   "execution_count": null,
   "id": "shared-button",
   "metadata": {},
   "outputs": [],
   "source": [
    "file_idx = 3\n",
    "input_data = read_file(files[file_idx])"
   ]
  },
  {
   "cell_type": "code",
   "execution_count": null,
   "id": "advised-anchor",
   "metadata": {},
   "outputs": [],
   "source": [
    "input_data"
   ]
  },
  {
   "cell_type": "code",
   "execution_count": null,
   "id": "alternative-temple",
   "metadata": {},
   "outputs": [],
   "source": [
    "def parse_input(input_data):\n",
    "    Bs, Es, streets, Ls, Ps, routes = list(), list(), list(), list(), list(), list()\n",
    "    for i, line in enumerate(input_data):\n",
    "        if i == 0:\n",
    "            D, I, S, V, F = map(int, line.split(' ')) # duration, intersections, streets, cars, bonus points\n",
    "            print(D, I, S, V, F)\n",
    "        elif 0 < i < S+1:\n",
    "            B, E, street, L = line.split(' ')\n",
    "            Bs.append(int(B))\n",
    "            Es.append(int(E))\n",
    "            streets.append(street)\n",
    "            Ls.append(int(L))\n",
    "            print(B,E, street, L)\n",
    "        else:\n",
    "            split_line = line.split(' ')\n",
    "            P = split_line[0]\n",
    "            Ps.append(int(P))\n",
    "            route = split_line[1:]\n",
    "            routes.append(route)\n",
    "            print(P, route)\n",
    "    return D, I, S, V, F, Bs, Es, streets, Ls, Ps, routes"
   ]
  },
  {
   "cell_type": "code",
   "execution_count": null,
   "id": "ongoing-enemy",
   "metadata": {},
   "outputs": [],
   "source": [
    "D, I, S, V, F, Bs, Es, streets, Ls, Ps, routes = parse_input(input_data)"
   ]
  },
  {
   "cell_type": "code",
   "execution_count": null,
   "id": "elegant-continent",
   "metadata": {
    "scrolled": true
   },
   "outputs": [],
   "source": [
    "count_begins = Counter(Bs)\n",
    "begins_sorted = dict(sorted(count_begins.items(), key=lambda x: x[1], reverse=True))\n",
    "begins_sorted"
   ]
  },
  {
   "cell_type": "code",
   "execution_count": null,
   "id": "ruled-extraction",
   "metadata": {},
   "outputs": [],
   "source": [
    "count_begins"
   ]
  },
  {
   "cell_type": "code",
   "execution_count": null,
   "id": "available-affiliation",
   "metadata": {},
   "outputs": [],
   "source": [
    "sum(begins_sorted.values())"
   ]
  },
  {
   "cell_type": "code",
   "execution_count": null,
   "id": "random-context",
   "metadata": {},
   "outputs": [],
   "source": [
    "count_ends = Counter(Es)\n",
    "ends_sorted = dict(sorted(count_ends.items(), key=lambda x: x[1], reverse=True))\n",
    "ends_sorted"
   ]
  },
  {
   "cell_type": "code",
   "execution_count": null,
   "id": "configured-crazy",
   "metadata": {
    "scrolled": true
   },
   "outputs": [],
   "source": [
    "pd.Series(ends_sorted.values()).describe()"
   ]
  },
  {
   "cell_type": "code",
   "execution_count": null,
   "id": "first-mainstream",
   "metadata": {},
   "outputs": [],
   "source": [
    "plt.Figure()\n",
    "pd.Series(ends_sorted.values()).hist(bins=100)\n",
    "plt.xlabel('Streets to/from intersection')"
   ]
  },
  {
   "cell_type": "code",
   "execution_count": null,
   "id": "artificial-consortium",
   "metadata": {},
   "outputs": [],
   "source": [
    "routes"
   ]
  },
  {
   "cell_type": "code",
   "execution_count": null,
   "id": "alive-activity",
   "metadata": {},
   "outputs": [],
   "source": [
    "chained = chain.from_iterable(routes)"
   ]
  },
  {
   "cell_type": "code",
   "execution_count": null,
   "id": "contemporary-guinea",
   "metadata": {},
   "outputs": [],
   "source": [
    "chained = chain.from_iterable(routes)\n",
    "count_streets = Counter(chained)\n",
    "street_counts_sorted = dict(sorted(count_streets.items(), key=lambda x: x[1], reverse=True))\n",
    "street_counts_sorted"
   ]
  },
  {
   "cell_type": "code",
   "execution_count": null,
   "id": "lovely-lotus",
   "metadata": {},
   "outputs": [],
   "source": [
    "pd.Series(street_counts_sorted.values()).describe()"
   ]
  },
  {
   "cell_type": "code",
   "execution_count": null,
   "id": "undefined-circumstances",
   "metadata": {},
   "outputs": [],
   "source": [
    "plt.figure()\n",
    "plt.hist(pd.Series(street_counts_sorted.values()), bins=12)\n",
    "plt.ylabel('#')\n",
    "plt.xlabel('Number of cars through street')"
   ]
  },
  {
   "cell_type": "code",
   "execution_count": null,
   "id": "serial-perth",
   "metadata": {},
   "outputs": [],
   "source": [
    "sum(Ps)"
   ]
  },
  {
   "cell_type": "code",
   "execution_count": null,
   "id": "patient-kennedy",
   "metadata": {},
   "outputs": [],
   "source": [
    "sum(street_counts_sorted.values())"
   ]
  },
  {
   "cell_type": "code",
   "execution_count": null,
   "id": "republican-sweden",
   "metadata": {},
   "outputs": [],
   "source": [
    "streets"
   ]
  },
  {
   "cell_type": "code",
   "execution_count": null,
   "id": "unauthorized-seattle",
   "metadata": {},
   "outputs": [],
   "source": [
    "S = dict(zip(streets, Ls))"
   ]
  },
  {
   "cell_type": "code",
   "execution_count": null,
   "id": "liquid-attempt",
   "metadata": {},
   "outputs": [],
   "source": [
    "S"
   ]
  },
  {
   "cell_type": "code",
   "execution_count": null,
   "id": "broken-confusion",
   "metadata": {},
   "outputs": [],
   "source": [
    "route_length = list()\n",
    "for route in routes:\n",
    "    length = 0\n",
    "    for i, street in enumerate(route):\n",
    "        if i == 0:\n",
    "            continue\n",
    "        length += S[street]\n",
    "    route_length.append(length)"
   ]
  },
  {
   "cell_type": "code",
   "execution_count": null,
   "id": "cathedral-catalyst",
   "metadata": {},
   "outputs": [],
   "source": [
    "plt.figure()\n",
    "plt.hist(pd.Series(route_length), bins=30)\n",
    "plt.ylabel('#')\n",
    "plt.xlabel('Route length (excl. first')"
   ]
  },
  {
   "cell_type": "code",
   "execution_count": null,
   "id": "roman-meeting",
   "metadata": {},
   "outputs": [],
   "source": [
    "pd.Series(route_length).describe()"
   ]
  },
  {
   "cell_type": "code",
   "execution_count": null,
   "id": "scheduled-writing",
   "metadata": {},
   "outputs": [],
   "source": [
    "D, F"
   ]
  },
  {
   "cell_type": "code",
   "execution_count": null,
   "id": "associate-nurse",
   "metadata": {},
   "outputs": [],
   "source": [
    "goal = 1.5e6\n",
    "sum_ = 0\n",
    "\n",
    "for i, route_len in enumerate(sorted(route_length, reverse=True)):\n",
    "    sum_ += (D - route_len) + F\n",
    "    if sum_ > goal:\n",
    "        print(i)\n",
    "        break"
   ]
  },
  {
   "cell_type": "markdown",
   "id": "romance-consultancy",
   "metadata": {},
   "source": [
    "# drukste kruispunt per route"
   ]
  },
  {
   "cell_type": "code",
   "execution_count": null,
   "id": "adjustable-income",
   "metadata": {},
   "outputs": [],
   "source": [
    "street_to_I = dict(zip(streets, Es))"
   ]
  },
  {
   "cell_type": "code",
   "execution_count": null,
   "id": "numeric-journal",
   "metadata": {},
   "outputs": [],
   "source": [
    "ends_sorted"
   ]
  },
  {
   "cell_type": "code",
   "execution_count": null,
   "id": "featured-record",
   "metadata": {},
   "outputs": [],
   "source": [
    "street_to_I"
   ]
  },
  {
   "cell_type": "code",
   "execution_count": null,
   "id": "distinct-blast",
   "metadata": {},
   "outputs": [],
   "source": [
    "busiest_intersection_on_routes = list()\n",
    "for route in routes:\n",
    "    busiest = 0\n",
    "    for i, street in enumerate(route):\n",
    "        n_streets_end_at_intersection = ends_sorted[street_to_I[street]]\n",
    "        if n_streets_end_at_intersection > busiest:\n",
    "            busiest = n_streets_end_at_intersection\n",
    "    busiest_intersection_on_routes.append(busiest)"
   ]
  },
  {
   "cell_type": "code",
   "execution_count": null,
   "id": "average-stomach",
   "metadata": {},
   "outputs": [],
   "source": [
    "pd.Series(busiest_intersection_on_routes).describe()"
   ]
  },
  {
   "cell_type": "code",
   "execution_count": null,
   "id": "future-result",
   "metadata": {},
   "outputs": [],
   "source": [
    "plt.figure()\n",
    "plt.hist(pd.Series(busiest_intersection_on_routes), bins=30)\n",
    "plt.xlabel('Busiest intersection on route')"
   ]
  },
  {
   "cell_type": "markdown",
   "id": "formal-reference",
   "metadata": {},
   "source": [
    "# aankomsttijd per straat op drukste kruispunt"
   ]
  },
  {
   "cell_type": "code",
   "execution_count": null,
   "id": "documentary-edward",
   "metadata": {},
   "outputs": [],
   "source": [
    "intersection_to_review = 8\n",
    "street_to_I = dict(zip(streets, Es))\n",
    "street_lengths = dict(zip(streets, Ls))\n",
    "arrivals_time_and_street = list()\n",
    "street_to_int_mapping = dict()\n",
    "for route in routes:\n",
    "    time = 0\n",
    "    for i, street in enumerate(route):\n",
    "        if i != 0:\n",
    "            time += street_lengths[street]\n",
    "        \n",
    "        intersection = street_to_I[street]\n",
    "        if intersection != intersection_to_review:\n",
    "            continue\n",
    "            \n",
    "        if street in street_to_int_mapping:\n",
    "            pass\n",
    "        else:\n",
    "            street_to_int_mapping[street] = len(street_to_int_mapping.keys())\n",
    "        \n",
    "        arrivals_time_and_street.append((time, street_to_int_mapping[street]))"
   ]
  },
  {
   "cell_type": "code",
   "execution_count": null,
   "id": "automatic-subscriber",
   "metadata": {
    "scrolled": true
   },
   "outputs": [],
   "source": [
    "# some streets to the intersection are not on a route -- len(street_to_int_mapping.keys())\n",
    "\n",
    "plt.figure()\n",
    "times, street_ids = zip(*arrivals_time_and_street)\n",
    "plt.scatter(times, street_ids, s=2)\n",
    "plt.xlabel(f'arrival time at intersection {intersection_to_review}')\n",
    "plt.ylabel('street id')\n",
    "non_zero = len(street_to_int_mapping.keys())\n",
    "plt.suptitle(f'{non_zero} streets with cars')"
   ]
  },
  {
   "cell_type": "code",
   "execution_count": null,
   "id": "convenient-experience",
   "metadata": {
    "scrolled": false
   },
   "outputs": [],
   "source": [
    "Counter(Counter(street_ids).values())"
   ]
  },
  {
   "cell_type": "code",
   "execution_count": null,
   "id": "anticipated-gregory",
   "metadata": {},
   "outputs": [],
   "source": [
    "arrival_times_via_street = defaultdict(list)\n",
    "\n",
    "for time, street_id in arrivals_time_and_street:\n",
    "    arrival_times_via_street[street_id].append(time)"
   ]
  },
  {
   "cell_type": "code",
   "execution_count": null,
   "id": "correct-sarah",
   "metadata": {},
   "outputs": [],
   "source": [
    "single_car_street_arrivals = list()\n",
    "for arrivals in arrival_times_via_street.values():\n",
    "    if len(arrivals) == 1:\n",
    "        single_car_street_arrivals += arrivals\n",
    "    \n",
    "print(sorted(single_car_street_arrivals))"
   ]
  },
  {
   "cell_type": "code",
   "execution_count": null,
   "id": "frank-bubble",
   "metadata": {},
   "outputs": [],
   "source": [
    "# Check if the arrival times are close to each other\n",
    "differences = list()\n",
    "multi_car_street_arrivals = list()\n",
    "for arrivals in arrival_times_via_street.values():\n",
    "    if len(arrivals) != 2: # == 1\n",
    "        continue\n",
    "    \n",
    "    diff = max(arrivals) - min(arrivals)\n",
    "    differences.append(diff)\n",
    "    multi_car_street_arrivals.append((diff, sorted(arrivals)))\n",
    "pd.Series(differences).describe()\n",
    "print(sorted(differences))\n",
    "print(sorted(multi_car_street_arrivals))"
   ]
  },
  {
   "cell_type": "code",
   "execution_count": null,
   "id": "compatible-permission",
   "metadata": {},
   "outputs": [],
   "source": []
  }
 ],
 "metadata": {
  "kernelspec": {
   "display_name": "Python 3",
   "language": "python",
   "name": "python3"
  },
  "language_info": {
   "codemirror_mode": {
    "name": "ipython",
    "version": 3
   },
   "file_extension": ".py",
   "mimetype": "text/x-python",
   "name": "python",
   "nbconvert_exporter": "python",
   "pygments_lexer": "ipython3",
   "version": "3.8.7"
  }
 },
 "nbformat": 4,
 "nbformat_minor": 5
}
